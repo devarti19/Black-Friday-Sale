{
 "cells": [
  {
   "cell_type": "code",
   "execution_count": 1,
   "metadata": {},
   "outputs": [],
   "source": [
    "import numpy as np\n",
    "import pandas as pd\n",
    "import matplotlib.pyplot as plt\n",
    "import seaborn as sns\n",
    "from scipy.stats import mode\n",
    "from sklearn.model_selection import train_test_split, RandomizedSearchCV\n",
    "from sklearn.preprocessing import LabelEncoder\n",
    "from sklearn.preprocessing import PolynomialFeatures, StandardScaler\n",
    "from sklearn.linear_model import LinearRegression, Lasso, Ridge\n",
    "from sklearn.tree import DecisionTreeRegressor\n",
    "from sklearn.ensemble import RandomForestRegressor, GradientBoostingRegressor, AdaBoostRegressor\n",
    "from sklearn.metrics import mean_squared_error, r2_score"
   ]
  },
  {
   "cell_type": "code",
   "execution_count": 2,
   "metadata": {},
   "outputs": [],
   "source": [
    "df= pd.read_csv(r\"C:\\Users\\91758\\Downloads\\Black Friday Sale\\train.csv\")\n",
    "df_test= pd.read_csv(r\"C:\\Users\\91758\\Downloads\\Black Friday Sale\\test.csv\")"
   ]
  },
  {
   "cell_type": "code",
   "execution_count": 3,
   "metadata": {},
   "outputs": [
    {
     "data": {
      "text/html": [
       "<div>\n",
       "<style scoped>\n",
       "    .dataframe tbody tr th:only-of-type {\n",
       "        vertical-align: middle;\n",
       "    }\n",
       "\n",
       "    .dataframe tbody tr th {\n",
       "        vertical-align: top;\n",
       "    }\n",
       "\n",
       "    .dataframe thead th {\n",
       "        text-align: right;\n",
       "    }\n",
       "</style>\n",
       "<table border=\"1\" class=\"dataframe\">\n",
       "  <thead>\n",
       "    <tr style=\"text-align: right;\">\n",
       "      <th></th>\n",
       "      <th>User_ID</th>\n",
       "      <th>Product_ID</th>\n",
       "      <th>Gender</th>\n",
       "      <th>Age</th>\n",
       "      <th>Occupation</th>\n",
       "      <th>City_Category</th>\n",
       "      <th>Stay_In_Current_City_Years</th>\n",
       "      <th>Marital_Status</th>\n",
       "      <th>Product_Category_1</th>\n",
       "      <th>Product_Category_2</th>\n",
       "      <th>Product_Category_3</th>\n",
       "      <th>Purchase</th>\n",
       "    </tr>\n",
       "  </thead>\n",
       "  <tbody>\n",
       "    <tr>\n",
       "      <th>0</th>\n",
       "      <td>1000001</td>\n",
       "      <td>P00069042</td>\n",
       "      <td>F</td>\n",
       "      <td>0-17</td>\n",
       "      <td>10</td>\n",
       "      <td>A</td>\n",
       "      <td>2</td>\n",
       "      <td>0</td>\n",
       "      <td>3</td>\n",
       "      <td>NaN</td>\n",
       "      <td>NaN</td>\n",
       "      <td>8370</td>\n",
       "    </tr>\n",
       "    <tr>\n",
       "      <th>1</th>\n",
       "      <td>1000001</td>\n",
       "      <td>P00248942</td>\n",
       "      <td>F</td>\n",
       "      <td>0-17</td>\n",
       "      <td>10</td>\n",
       "      <td>A</td>\n",
       "      <td>2</td>\n",
       "      <td>0</td>\n",
       "      <td>1</td>\n",
       "      <td>6.0</td>\n",
       "      <td>14.0</td>\n",
       "      <td>15200</td>\n",
       "    </tr>\n",
       "    <tr>\n",
       "      <th>2</th>\n",
       "      <td>1000001</td>\n",
       "      <td>P00087842</td>\n",
       "      <td>F</td>\n",
       "      <td>0-17</td>\n",
       "      <td>10</td>\n",
       "      <td>A</td>\n",
       "      <td>2</td>\n",
       "      <td>0</td>\n",
       "      <td>12</td>\n",
       "      <td>NaN</td>\n",
       "      <td>NaN</td>\n",
       "      <td>1422</td>\n",
       "    </tr>\n",
       "    <tr>\n",
       "      <th>3</th>\n",
       "      <td>1000001</td>\n",
       "      <td>P00085442</td>\n",
       "      <td>F</td>\n",
       "      <td>0-17</td>\n",
       "      <td>10</td>\n",
       "      <td>A</td>\n",
       "      <td>2</td>\n",
       "      <td>0</td>\n",
       "      <td>12</td>\n",
       "      <td>14.0</td>\n",
       "      <td>NaN</td>\n",
       "      <td>1057</td>\n",
       "    </tr>\n",
       "    <tr>\n",
       "      <th>4</th>\n",
       "      <td>1000002</td>\n",
       "      <td>P00285442</td>\n",
       "      <td>M</td>\n",
       "      <td>55+</td>\n",
       "      <td>16</td>\n",
       "      <td>C</td>\n",
       "      <td>4+</td>\n",
       "      <td>0</td>\n",
       "      <td>8</td>\n",
       "      <td>NaN</td>\n",
       "      <td>NaN</td>\n",
       "      <td>7969</td>\n",
       "    </tr>\n",
       "  </tbody>\n",
       "</table>\n",
       "</div>"
      ],
      "text/plain": [
       "   User_ID Product_ID Gender   Age  Occupation City_Category  \\\n",
       "0  1000001  P00069042      F  0-17          10             A   \n",
       "1  1000001  P00248942      F  0-17          10             A   \n",
       "2  1000001  P00087842      F  0-17          10             A   \n",
       "3  1000001  P00085442      F  0-17          10             A   \n",
       "4  1000002  P00285442      M   55+          16             C   \n",
       "\n",
       "  Stay_In_Current_City_Years  Marital_Status  Product_Category_1  \\\n",
       "0                          2               0                   3   \n",
       "1                          2               0                   1   \n",
       "2                          2               0                  12   \n",
       "3                          2               0                  12   \n",
       "4                         4+               0                   8   \n",
       "\n",
       "   Product_Category_2  Product_Category_3  Purchase  \n",
       "0                 NaN                 NaN      8370  \n",
       "1                 6.0                14.0     15200  \n",
       "2                 NaN                 NaN      1422  \n",
       "3                14.0                 NaN      1057  \n",
       "4                 NaN                 NaN      7969  "
      ]
     },
     "execution_count": 3,
     "metadata": {},
     "output_type": "execute_result"
    }
   ],
   "source": [
    "df.head()"
   ]
  },
  {
   "cell_type": "code",
   "execution_count": 4,
   "metadata": {},
   "outputs": [
    {
     "data": {
      "text/plain": [
       "550068"
      ]
     },
     "execution_count": 4,
     "metadata": {},
     "output_type": "execute_result"
    }
   ],
   "source": [
    "ts=df.shape\n",
    "ts=ts[0]\n",
    "ts"
   ]
  },
  {
   "cell_type": "code",
   "execution_count": 5,
   "metadata": {},
   "outputs": [
    {
     "data": {
      "text/plain": [
       "User_ID                            0\n",
       "Product_ID                         0\n",
       "Gender                             0\n",
       "Age                                0\n",
       "Occupation                         0\n",
       "City_Category                      0\n",
       "Stay_In_Current_City_Years         0\n",
       "Marital_Status                     0\n",
       "Product_Category_1                 0\n",
       "Product_Category_2            173638\n",
       "Product_Category_3            383247\n",
       "Purchase                           0\n",
       "dtype: int64"
      ]
     },
     "execution_count": 5,
     "metadata": {},
     "output_type": "execute_result"
    }
   ],
   "source": [
    "df.isnull().sum()"
   ]
  },
  {
   "cell_type": "code",
   "execution_count": 6,
   "metadata": {},
   "outputs": [
    {
     "data": {
      "text/html": [
       "<div>\n",
       "<style scoped>\n",
       "    .dataframe tbody tr th:only-of-type {\n",
       "        vertical-align: middle;\n",
       "    }\n",
       "\n",
       "    .dataframe tbody tr th {\n",
       "        vertical-align: top;\n",
       "    }\n",
       "\n",
       "    .dataframe thead th {\n",
       "        text-align: right;\n",
       "    }\n",
       "</style>\n",
       "<table border=\"1\" class=\"dataframe\">\n",
       "  <thead>\n",
       "    <tr style=\"text-align: right;\">\n",
       "      <th></th>\n",
       "      <th>User_ID</th>\n",
       "      <th>Product_ID</th>\n",
       "      <th>Gender</th>\n",
       "      <th>Age</th>\n",
       "      <th>Occupation</th>\n",
       "      <th>City_Category</th>\n",
       "      <th>Stay_In_Current_City_Years</th>\n",
       "      <th>Marital_Status</th>\n",
       "      <th>Product_Category_1</th>\n",
       "      <th>Product_Category_2</th>\n",
       "      <th>Product_Category_3</th>\n",
       "    </tr>\n",
       "  </thead>\n",
       "  <tbody>\n",
       "    <tr>\n",
       "      <th>0</th>\n",
       "      <td>1000004</td>\n",
       "      <td>P00128942</td>\n",
       "      <td>M</td>\n",
       "      <td>46-50</td>\n",
       "      <td>7</td>\n",
       "      <td>B</td>\n",
       "      <td>2</td>\n",
       "      <td>1</td>\n",
       "      <td>1</td>\n",
       "      <td>11.0</td>\n",
       "      <td>NaN</td>\n",
       "    </tr>\n",
       "    <tr>\n",
       "      <th>1</th>\n",
       "      <td>1000009</td>\n",
       "      <td>P00113442</td>\n",
       "      <td>M</td>\n",
       "      <td>26-35</td>\n",
       "      <td>17</td>\n",
       "      <td>C</td>\n",
       "      <td>0</td>\n",
       "      <td>0</td>\n",
       "      <td>3</td>\n",
       "      <td>5.0</td>\n",
       "      <td>NaN</td>\n",
       "    </tr>\n",
       "    <tr>\n",
       "      <th>2</th>\n",
       "      <td>1000010</td>\n",
       "      <td>P00288442</td>\n",
       "      <td>F</td>\n",
       "      <td>36-45</td>\n",
       "      <td>1</td>\n",
       "      <td>B</td>\n",
       "      <td>4+</td>\n",
       "      <td>1</td>\n",
       "      <td>5</td>\n",
       "      <td>14.0</td>\n",
       "      <td>NaN</td>\n",
       "    </tr>\n",
       "    <tr>\n",
       "      <th>3</th>\n",
       "      <td>1000010</td>\n",
       "      <td>P00145342</td>\n",
       "      <td>F</td>\n",
       "      <td>36-45</td>\n",
       "      <td>1</td>\n",
       "      <td>B</td>\n",
       "      <td>4+</td>\n",
       "      <td>1</td>\n",
       "      <td>4</td>\n",
       "      <td>9.0</td>\n",
       "      <td>NaN</td>\n",
       "    </tr>\n",
       "    <tr>\n",
       "      <th>4</th>\n",
       "      <td>1000011</td>\n",
       "      <td>P00053842</td>\n",
       "      <td>F</td>\n",
       "      <td>26-35</td>\n",
       "      <td>1</td>\n",
       "      <td>C</td>\n",
       "      <td>1</td>\n",
       "      <td>0</td>\n",
       "      <td>4</td>\n",
       "      <td>5.0</td>\n",
       "      <td>12.0</td>\n",
       "    </tr>\n",
       "  </tbody>\n",
       "</table>\n",
       "</div>"
      ],
      "text/plain": [
       "   User_ID Product_ID Gender    Age  Occupation City_Category  \\\n",
       "0  1000004  P00128942      M  46-50           7             B   \n",
       "1  1000009  P00113442      M  26-35          17             C   \n",
       "2  1000010  P00288442      F  36-45           1             B   \n",
       "3  1000010  P00145342      F  36-45           1             B   \n",
       "4  1000011  P00053842      F  26-35           1             C   \n",
       "\n",
       "  Stay_In_Current_City_Years  Marital_Status  Product_Category_1  \\\n",
       "0                          2               1                   1   \n",
       "1                          0               0                   3   \n",
       "2                         4+               1                   5   \n",
       "3                         4+               1                   4   \n",
       "4                          1               0                   4   \n",
       "\n",
       "   Product_Category_2  Product_Category_3  \n",
       "0                11.0                 NaN  \n",
       "1                 5.0                 NaN  \n",
       "2                14.0                 NaN  \n",
       "3                 9.0                 NaN  \n",
       "4                 5.0                12.0  "
      ]
     },
     "execution_count": 6,
     "metadata": {},
     "output_type": "execute_result"
    }
   ],
   "source": [
    "df_test.head()"
   ]
  },
  {
   "cell_type": "code",
   "execution_count": 7,
   "metadata": {},
   "outputs": [
    {
     "data": {
      "text/plain": [
       "(233599, 11)"
      ]
     },
     "execution_count": 7,
     "metadata": {},
     "output_type": "execute_result"
    }
   ],
   "source": [
    "sh=df_test.shape\n",
    "sh"
   ]
  },
  {
   "cell_type": "code",
   "execution_count": 8,
   "metadata": {},
   "outputs": [
    {
     "name": "stderr",
     "output_type": "stream",
     "text": [
      "C:\\Users\\91758\\AppData\\Local\\Continuum\\anaconda3\\lib\\site-packages\\ipykernel_launcher.py:1: FutureWarning: Sorting because non-concatenation axis is not aligned. A future version\n",
      "of pandas will change to not sort by default.\n",
      "\n",
      "To accept the future behavior, pass 'sort=False'.\n",
      "\n",
      "To retain the current behavior and silence the warning, pass 'sort=True'.\n",
      "\n",
      "  \"\"\"Entry point for launching an IPython kernel.\n"
     ]
    }
   ],
   "source": [
    "data=pd.concat([df,df_test])"
   ]
  },
  {
   "cell_type": "code",
   "execution_count": 9,
   "metadata": {},
   "outputs": [
    {
     "data": {
      "text/plain": [
       "(783667, 12)"
      ]
     },
     "execution_count": 9,
     "metadata": {},
     "output_type": "execute_result"
    }
   ],
   "source": [
    "data.shape"
   ]
  },
  {
   "cell_type": "code",
   "execution_count": 10,
   "metadata": {},
   "outputs": [
    {
     "data": {
      "text/html": [
       "<div>\n",
       "<style scoped>\n",
       "    .dataframe tbody tr th:only-of-type {\n",
       "        vertical-align: middle;\n",
       "    }\n",
       "\n",
       "    .dataframe tbody tr th {\n",
       "        vertical-align: top;\n",
       "    }\n",
       "\n",
       "    .dataframe thead th {\n",
       "        text-align: right;\n",
       "    }\n",
       "</style>\n",
       "<table border=\"1\" class=\"dataframe\">\n",
       "  <thead>\n",
       "    <tr style=\"text-align: right;\">\n",
       "      <th></th>\n",
       "      <th>Age</th>\n",
       "      <th>City_Category</th>\n",
       "      <th>Gender</th>\n",
       "      <th>Marital_Status</th>\n",
       "      <th>Occupation</th>\n",
       "      <th>Product_Category_1</th>\n",
       "      <th>Product_Category_2</th>\n",
       "      <th>Product_Category_3</th>\n",
       "      <th>Product_ID</th>\n",
       "      <th>Purchase</th>\n",
       "      <th>Stay_In_Current_City_Years</th>\n",
       "      <th>User_ID</th>\n",
       "    </tr>\n",
       "  </thead>\n",
       "  <tbody>\n",
       "    <tr>\n",
       "      <th>0</th>\n",
       "      <td>0-17</td>\n",
       "      <td>A</td>\n",
       "      <td>F</td>\n",
       "      <td>0</td>\n",
       "      <td>10</td>\n",
       "      <td>3</td>\n",
       "      <td>NaN</td>\n",
       "      <td>NaN</td>\n",
       "      <td>P00069042</td>\n",
       "      <td>8370.0</td>\n",
       "      <td>2</td>\n",
       "      <td>1000001</td>\n",
       "    </tr>\n",
       "    <tr>\n",
       "      <th>1</th>\n",
       "      <td>0-17</td>\n",
       "      <td>A</td>\n",
       "      <td>F</td>\n",
       "      <td>0</td>\n",
       "      <td>10</td>\n",
       "      <td>1</td>\n",
       "      <td>6.0</td>\n",
       "      <td>14.0</td>\n",
       "      <td>P00248942</td>\n",
       "      <td>15200.0</td>\n",
       "      <td>2</td>\n",
       "      <td>1000001</td>\n",
       "    </tr>\n",
       "    <tr>\n",
       "      <th>2</th>\n",
       "      <td>0-17</td>\n",
       "      <td>A</td>\n",
       "      <td>F</td>\n",
       "      <td>0</td>\n",
       "      <td>10</td>\n",
       "      <td>12</td>\n",
       "      <td>NaN</td>\n",
       "      <td>NaN</td>\n",
       "      <td>P00087842</td>\n",
       "      <td>1422.0</td>\n",
       "      <td>2</td>\n",
       "      <td>1000001</td>\n",
       "    </tr>\n",
       "    <tr>\n",
       "      <th>3</th>\n",
       "      <td>0-17</td>\n",
       "      <td>A</td>\n",
       "      <td>F</td>\n",
       "      <td>0</td>\n",
       "      <td>10</td>\n",
       "      <td>12</td>\n",
       "      <td>14.0</td>\n",
       "      <td>NaN</td>\n",
       "      <td>P00085442</td>\n",
       "      <td>1057.0</td>\n",
       "      <td>2</td>\n",
       "      <td>1000001</td>\n",
       "    </tr>\n",
       "    <tr>\n",
       "      <th>4</th>\n",
       "      <td>55+</td>\n",
       "      <td>C</td>\n",
       "      <td>M</td>\n",
       "      <td>0</td>\n",
       "      <td>16</td>\n",
       "      <td>8</td>\n",
       "      <td>NaN</td>\n",
       "      <td>NaN</td>\n",
       "      <td>P00285442</td>\n",
       "      <td>7969.0</td>\n",
       "      <td>4+</td>\n",
       "      <td>1000002</td>\n",
       "    </tr>\n",
       "  </tbody>\n",
       "</table>\n",
       "</div>"
      ],
      "text/plain": [
       "    Age City_Category Gender  Marital_Status  Occupation  Product_Category_1  \\\n",
       "0  0-17             A      F               0          10                   3   \n",
       "1  0-17             A      F               0          10                   1   \n",
       "2  0-17             A      F               0          10                  12   \n",
       "3  0-17             A      F               0          10                  12   \n",
       "4   55+             C      M               0          16                   8   \n",
       "\n",
       "   Product_Category_2  Product_Category_3 Product_ID  Purchase  \\\n",
       "0                 NaN                 NaN  P00069042    8370.0   \n",
       "1                 6.0                14.0  P00248942   15200.0   \n",
       "2                 NaN                 NaN  P00087842    1422.0   \n",
       "3                14.0                 NaN  P00085442    1057.0   \n",
       "4                 NaN                 NaN  P00285442    7969.0   \n",
       "\n",
       "  Stay_In_Current_City_Years  User_ID  \n",
       "0                          2  1000001  \n",
       "1                          2  1000001  \n",
       "2                          2  1000001  \n",
       "3                          2  1000001  \n",
       "4                         4+  1000002  "
      ]
     },
     "execution_count": 10,
     "metadata": {},
     "output_type": "execute_result"
    }
   ],
   "source": [
    "data.head()"
   ]
  },
  {
   "cell_type": "code",
   "execution_count": 11,
   "metadata": {},
   "outputs": [
    {
     "name": "stdout",
     "output_type": "stream",
     "text": [
      "<class 'pandas.core.frame.DataFrame'>\n",
      "Int64Index: 783667 entries, 0 to 233598\n",
      "Data columns (total 12 columns):\n",
      "Age                           783667 non-null object\n",
      "City_Category                 783667 non-null object\n",
      "Gender                        783667 non-null object\n",
      "Marital_Status                783667 non-null int64\n",
      "Occupation                    783667 non-null int64\n",
      "Product_Category_1            783667 non-null int64\n",
      "Product_Category_2            537685 non-null float64\n",
      "Product_Category_3            237858 non-null float64\n",
      "Product_ID                    783667 non-null object\n",
      "Purchase                      550068 non-null float64\n",
      "Stay_In_Current_City_Years    783667 non-null object\n",
      "User_ID                       783667 non-null int64\n",
      "dtypes: float64(3), int64(4), object(5)\n",
      "memory usage: 77.7+ MB\n"
     ]
    }
   ],
   "source": [
    "data.info()"
   ]
  },
  {
   "cell_type": "code",
   "execution_count": 12,
   "metadata": {},
   "outputs": [
    {
     "data": {
      "text/plain": [
       "Age                                0\n",
       "City_Category                      0\n",
       "Gender                             0\n",
       "Marital_Status                     0\n",
       "Occupation                         0\n",
       "Product_Category_1                 0\n",
       "Product_Category_2            245982\n",
       "Product_Category_3            545809\n",
       "Product_ID                         0\n",
       "Purchase                      233599\n",
       "Stay_In_Current_City_Years         0\n",
       "User_ID                            0\n",
       "dtype: int64"
      ]
     },
     "execution_count": 12,
     "metadata": {},
     "output_type": "execute_result"
    }
   ],
   "source": [
    "data.isnull().sum()"
   ]
  },
  {
   "cell_type": "code",
   "execution_count": 13,
   "metadata": {},
   "outputs": [
    {
     "name": "stdout",
     "output_type": "stream",
     "text": [
      "City_Category\n",
      "B    329739\n",
      "C    243684\n",
      "A    210244\n",
      "Name: City_Category, dtype: int64\n",
      "---------------------------------------------------\n",
      "Gender\n",
      "M    590031\n",
      "F    193636\n",
      "Name: Gender, dtype: int64\n",
      "---------------------------------------------------\n",
      "Marital_Status\n",
      "0    462538\n",
      "1    321129\n",
      "Name: Marital_Status, dtype: int64\n",
      "---------------------------------------------------\n",
      "Occupation\n",
      "4     103086\n",
      "0      98850\n",
      "7      84127\n",
      "1      67687\n",
      "17     57418\n",
      "20     47840\n",
      "12     44448\n",
      "14     38782\n",
      "2      37996\n",
      "16     36122\n",
      "6      29102\n",
      "3      25126\n",
      "10     18304\n",
      "5      17373\n",
      "15     17356\n",
      "11     16593\n",
      "19     11919\n",
      "13     11053\n",
      "18      9367\n",
      "9       8929\n",
      "8       2189\n",
      "Name: Occupation, dtype: int64\n",
      "---------------------------------------------------\n",
      "Product_Category_1\n",
      "5     215950\n",
      "1     200699\n",
      "8     162294\n",
      "11     34440\n",
      "2      34056\n",
      "6      29326\n",
      "3      28791\n",
      "4      16756\n",
      "16     13933\n",
      "15      8984\n",
      "13      7930\n",
      "10      7373\n",
      "12      5610\n",
      "7       5345\n",
      "18      4436\n",
      "20      2550\n",
      "14      2186\n",
      "19      1603\n",
      "17       801\n",
      "9        604\n",
      "Name: Product_Category_1, dtype: int64\n",
      "---------------------------------------------------\n",
      "Product_Category_2\n",
      "8.0     91317\n",
      "14.0    78834\n",
      "2.0     70498\n",
      "16.0    61687\n",
      "15.0    54114\n",
      "5.0     37165\n",
      "4.0     36705\n",
      "6.0     23575\n",
      "11.0    20230\n",
      "17.0    19104\n",
      "13.0    15054\n",
      "9.0      8177\n",
      "12.0     7801\n",
      "10.0     4420\n",
      "3.0      4123\n",
      "18.0     4027\n",
      "7.0       854\n",
      "Name: Product_Category_2, dtype: int64\n",
      "---------------------------------------------------\n",
      "Product_Category_3\n",
      "16.0    46469\n",
      "15.0    39968\n",
      "14.0    26283\n",
      "17.0    23818\n",
      "5.0     23799\n",
      "8.0     17861\n",
      "9.0     16532\n",
      "12.0    13115\n",
      "13.0     7849\n",
      "6.0      6888\n",
      "18.0     6621\n",
      "4.0      2691\n",
      "11.0     2585\n",
      "10.0     2501\n",
      "3.0       878\n",
      "Name: Product_Category_3, dtype: int64\n",
      "---------------------------------------------------\n",
      "Product_ID\n",
      "P00265242    2709\n",
      "P00025442    2310\n",
      "P00110742    2292\n",
      "P00112142    2279\n",
      "P00046742    2084\n",
      "P00057642    2079\n",
      "P00184942    2066\n",
      "P00058042    2014\n",
      "P00237542    1999\n",
      "P00145042    1991\n",
      "P00117942    1985\n",
      "P00110942    1976\n",
      "P00059442    1949\n",
      "P00010742    1922\n",
      "P00255842    1914\n",
      "P00110842    1834\n",
      "P00220442    1833\n",
      "P00051442    1794\n",
      "P00117442    1785\n",
      "P00102642    1782\n",
      "P00242742    1774\n",
      "P00148642    1758\n",
      "P00031042    1737\n",
      "P00278642    1735\n",
      "P00080342    1719\n",
      "P00028842    1713\n",
      "P00034742    1690\n",
      "P00251242    1682\n",
      "P00114942    1673\n",
      "P00000142    1636\n",
      "             ... \n",
      "P00038842       1\n",
      "P00053242       1\n",
      "P00064542       1\n",
      "P00038942       1\n",
      "P00309042       1\n",
      "P00167342       1\n",
      "P00030342       1\n",
      "P00285142       1\n",
      "P00299042       1\n",
      "P00144942       1\n",
      "P00068742       1\n",
      "P00172942       1\n",
      "P00365942       1\n",
      "P00203642       1\n",
      "P00060842       1\n",
      "P00065542       1\n",
      "P00353742       1\n",
      "P00105742       1\n",
      "P00100242       1\n",
      "P00074742       1\n",
      "P00306542       1\n",
      "P00081642       1\n",
      "P00013842       1\n",
      "P00106242       1\n",
      "P00239542       1\n",
      "P00322842       1\n",
      "P00072142       1\n",
      "P00104042       1\n",
      "P00063642       1\n",
      "P00027842       1\n",
      "Name: Product_ID, Length: 3677, dtype: int64\n",
      "---------------------------------------------------\n",
      "Stay_In_Current_City_Years\n",
      "1     276425\n",
      "2     145427\n",
      "3     135428\n",
      "4+    120671\n",
      "0     105716\n",
      "Name: Stay_In_Current_City_Years, dtype: int64\n",
      "---------------------------------------------------\n",
      "User_ID\n",
      "1001680    1468\n",
      "1004277    1384\n",
      "1001941    1286\n",
      "1001181    1230\n",
      "1000889    1204\n",
      "1003618    1079\n",
      "1001150    1065\n",
      "1004344    1043\n",
      "1001015    1039\n",
      "1002063    1025\n",
      "1005795    1021\n",
      "1002909    1016\n",
      "1005831    1012\n",
      "1001449     998\n",
      "1001980     992\n",
      "1004227     983\n",
      "1003391     981\n",
      "1000424     979\n",
      "1003841     973\n",
      "1004510     967\n",
      "1004508     957\n",
      "1001088     945\n",
      "1003808     937\n",
      "1005367     934\n",
      "1001285     910\n",
      "1003224     899\n",
      "1000549     893\n",
      "1003539     871\n",
      "1004543     845\n",
      "1005643     835\n",
      "           ... \n",
      "1003291      14\n",
      "1005207      14\n",
      "1004419      14\n",
      "1003802      14\n",
      "1004228      14\n",
      "1002977      14\n",
      "1005810      14\n",
      "1000320      14\n",
      "1004525      14\n",
      "1001927      14\n",
      "1005533      14\n",
      "1004749      14\n",
      "1001993      14\n",
      "1002488      14\n",
      "1002982      14\n",
      "1004943      14\n",
      "1000160      14\n",
      "1004178      14\n",
      "1004230      14\n",
      "1004068      14\n",
      "1003275      13\n",
      "1000572      13\n",
      "1006034      13\n",
      "1004991      13\n",
      "1004527      13\n",
      "1000708      13\n",
      "1005117      13\n",
      "1000341      13\n",
      "1002037      13\n",
      "1005804      13\n",
      "Name: User_ID, Length: 5891, dtype: int64\n",
      "---------------------------------------------------\n"
     ]
    }
   ],
   "source": [
    "l=[\"City_Category\",\"Gender\",\"Marital_Status\",\"Occupation\",\"Product_Category_1\",\"Product_Category_2\",\"Product_Category_3\",\"Product_ID\",\"Stay_In_Current_City_Years\",\"User_ID\"]\n",
    "for i in l:\n",
    "    print(i)\n",
    "    print(data[i].value_counts())\n",
    "    print('---------------------------------------------------')"
   ]
  },
  {
   "cell_type": "code",
   "execution_count": 14,
   "metadata": {},
   "outputs": [
    {
     "data": {
      "text/plain": [
       "<matplotlib.axes._subplots.AxesSubplot at 0x219a7c156a0>"
      ]
     },
     "execution_count": 14,
     "metadata": {},
     "output_type": "execute_result"
    },
    {
     "data": {
      "image/png": "[encoded data removed]",
      "text/plain": [
       "<Figure size 432x288 with 1 Axes>"
      ]
     },
     "metadata": {
      "needs_background": "light"
     },
     "output_type": "display_data"
    }
   ],
   "source": [
    "sns.countplot(data['Gender'])"
   ]
  },
  {
   "cell_type": "markdown",
   "metadata": {},
   "source": [
    "Male purchases more than female in Black Friday Sale"
   ]
  },
  {
   "cell_type": "code",
   "execution_count": 15,
   "metadata": {},
   "outputs": [
    {
     "data": {
      "text/plain": [
       "<matplotlib.axes._subplots.AxesSubplot at 0x219ae0a6908>"
      ]
     },
     "execution_count": 15,
     "metadata": {},
     "output_type": "execute_result"
    },
    {
     "data": {
      "image/png": "[encoded data removed]",
      "text/plain": [
       "<Figure size 432x288 with 1 Axes>"
      ]
     },
     "metadata": {
      "needs_background": "light"
     },
     "output_type": "display_data"
    }
   ],
   "source": [
    "sns.countplot(data['Age'], hue= data['Gender'])"
   ]
  },
  {
   "cell_type": "markdown",
   "metadata": {},
   "source": [
    "Both male and female purchase more in 26-35 age group. and 0-17 age group puchase the least."
   ]
  },
  {
   "cell_type": "code",
   "execution_count": 16,
   "metadata": {},
   "outputs": [
    {
     "data": {
      "text/plain": [
       "5891"
      ]
     },
     "execution_count": 16,
     "metadata": {},
     "output_type": "execute_result"
    }
   ],
   "source": [
    "data['User_ID'].nunique()"
   ]
  },
  {
   "cell_type": "code",
   "execution_count": 17,
   "metadata": {},
   "outputs": [
    {
     "data": {
      "text/html": [
       "<div>\n",
       "<style scoped>\n",
       "    .dataframe tbody tr th:only-of-type {\n",
       "        vertical-align: middle;\n",
       "    }\n",
       "\n",
       "    .dataframe tbody tr th {\n",
       "        vertical-align: top;\n",
       "    }\n",
       "\n",
       "    .dataframe thead th {\n",
       "        text-align: right;\n",
       "    }\n",
       "</style>\n",
       "<table border=\"1\" class=\"dataframe\">\n",
       "  <thead>\n",
       "    <tr style=\"text-align: right;\">\n",
       "      <th></th>\n",
       "      <th>Purchase</th>\n",
       "    </tr>\n",
       "    <tr>\n",
       "      <th>Occupation</th>\n",
       "      <th></th>\n",
       "    </tr>\n",
       "  </thead>\n",
       "  <tbody>\n",
       "    <tr>\n",
       "      <th>0</th>\n",
       "      <td>635406958.0</td>\n",
       "    </tr>\n",
       "    <tr>\n",
       "      <th>1</th>\n",
       "      <td>424614144.0</td>\n",
       "    </tr>\n",
       "    <tr>\n",
       "      <th>2</th>\n",
       "      <td>238028583.0</td>\n",
       "    </tr>\n",
       "    <tr>\n",
       "      <th>3</th>\n",
       "      <td>162002168.0</td>\n",
       "    </tr>\n",
       "    <tr>\n",
       "      <th>4</th>\n",
       "      <td>666244484.0</td>\n",
       "    </tr>\n",
       "    <tr>\n",
       "      <th>5</th>\n",
       "      <td>113649759.0</td>\n",
       "    </tr>\n",
       "    <tr>\n",
       "      <th>6</th>\n",
       "      <td>188416784.0</td>\n",
       "    </tr>\n",
       "    <tr>\n",
       "      <th>7</th>\n",
       "      <td>557371587.0</td>\n",
       "    </tr>\n",
       "    <tr>\n",
       "      <th>8</th>\n",
       "      <td>14737388.0</td>\n",
       "    </tr>\n",
       "    <tr>\n",
       "      <th>9</th>\n",
       "      <td>54340046.0</td>\n",
       "    </tr>\n",
       "    <tr>\n",
       "      <th>10</th>\n",
       "      <td>115844465.0</td>\n",
       "    </tr>\n",
       "    <tr>\n",
       "      <th>11</th>\n",
       "      <td>106751618.0</td>\n",
       "    </tr>\n",
       "    <tr>\n",
       "      <th>12</th>\n",
       "      <td>305449446.0</td>\n",
       "    </tr>\n",
       "    <tr>\n",
       "      <th>13</th>\n",
       "      <td>71919481.0</td>\n",
       "    </tr>\n",
       "    <tr>\n",
       "      <th>14</th>\n",
       "      <td>259454692.0</td>\n",
       "    </tr>\n",
       "    <tr>\n",
       "      <th>15</th>\n",
       "      <td>118960211.0</td>\n",
       "    </tr>\n",
       "    <tr>\n",
       "      <th>16</th>\n",
       "      <td>238346955.0</td>\n",
       "    </tr>\n",
       "    <tr>\n",
       "      <th>17</th>\n",
       "      <td>393281453.0</td>\n",
       "    </tr>\n",
       "    <tr>\n",
       "      <th>18</th>\n",
       "      <td>60721461.0</td>\n",
       "    </tr>\n",
       "    <tr>\n",
       "      <th>19</th>\n",
       "      <td>73700617.0</td>\n",
       "    </tr>\n",
       "    <tr>\n",
       "      <th>20</th>\n",
       "      <td>296570442.0</td>\n",
       "    </tr>\n",
       "  </tbody>\n",
       "</table>\n",
       "</div>"
      ],
      "text/plain": [
       "               Purchase\n",
       "Occupation             \n",
       "0           635406958.0\n",
       "1           424614144.0\n",
       "2           238028583.0\n",
       "3           162002168.0\n",
       "4           666244484.0\n",
       "5           113649759.0\n",
       "6           188416784.0\n",
       "7           557371587.0\n",
       "8            14737388.0\n",
       "9            54340046.0\n",
       "10          115844465.0\n",
       "11          106751618.0\n",
       "12          305449446.0\n",
       "13           71919481.0\n",
       "14          259454692.0\n",
       "15          118960211.0\n",
       "16          238346955.0\n",
       "17          393281453.0\n",
       "18           60721461.0\n",
       "19           73700617.0\n",
       "20          296570442.0"
      ]
     },
     "execution_count": 17,
     "metadata": {},
     "output_type": "execute_result"
    }
   ],
   "source": [
    "#We will check how much each occcupation people spend on purchasing\n",
    "p_avg= data.pivot_table(values='Purchase', index='Occupation', aggfunc='sum')\n",
    "p_avg"
   ]
  },
  {
   "cell_type": "code",
   "execution_count": 18,
   "metadata": {},
   "outputs": [
    {
     "data": {
      "text/plain": [
       "<matplotlib.axes._subplots.AxesSubplot at 0x219ae120278>"
      ]
     },
     "execution_count": 18,
     "metadata": {},
     "output_type": "execute_result"
    },
    {
     "data": {
      "image/png": "[encoded data removed]",
      "text/plain": [
       "<Figure size 720x360 with 1 Axes>"
      ]
     },
     "metadata": {
      "needs_background": "light"
     },
     "output_type": "display_data"
    }
   ],
   "source": [
    "plt.figure(figsize=(10,5))\n",
    "sns.barplot( p_avg.index , p_avg['Purchase'])"
   ]
  },
  {
   "cell_type": "markdown",
   "metadata": {},
   "source": [
    "It can be easily observed that people having occupations 0 and 4 spent the most money during Black Friday sales. On the other hand, the people belonging to the occupations with ID 18, 19, and especially occupation 8, have spent the least amount of money. It can imply that these groups are the poorest ones, or contrary, the richest people who don't like to shop in that kind of retail stores."
   ]
  },
  {
   "cell_type": "code",
   "execution_count": 19,
   "metadata": {},
   "outputs": [
    {
     "data": {
      "text/plain": [
       "([<matplotlib.patches.Wedge at 0x219ae26b550>,\n",
       "  <matplotlib.patches.Wedge at 0x219ae26bc88>,\n",
       "  <matplotlib.patches.Wedge at 0x219ae2753c8>],\n",
       " [Text(0.2710002461792907, 1.0660951489293833, 'A'),\n",
       "  Text(-0.9761836970549788, -0.5070161630599893, 'C'),\n",
       "  Text(0.731884994622866, -0.8211847262619341, 'B')],\n",
       " [Text(0.14781831609779492, 0.5815064448705727, '42.1%'),\n",
       "  Text(-0.5324638347572611, -0.2765542707599941, '31.1%'),\n",
       "  Text(0.3992099970670178, -0.4479189415974185, '26.8%')])"
      ]
     },
     "execution_count": 19,
     "metadata": {},
     "output_type": "execute_result"
    },
    {
     "data": {
      "image/png": "[encoded data removed]",
      "text/plain": [
       "<Figure size 432x288 with 1 Axes>"
      ]
     },
     "metadata": {},
     "output_type": "display_data"
    }
   ],
   "source": [
    "#Now we will check with the city\n",
    "plt.pie(data['City_Category'].value_counts(), labels=data['City_Category'].unique(), autopct='%1.1f%%')"
   ]
  },
  {
   "cell_type": "code",
   "execution_count": 20,
   "metadata": {},
   "outputs": [],
   "source": [
    "#only 30% of Product_Category_3 data is available. So we will drop it\n",
    "data.drop('Product_Category_3',axis=1,inplace= True)"
   ]
  },
  {
   "cell_type": "code",
   "execution_count": 21,
   "metadata": {},
   "outputs": [],
   "source": [
    "data['Product_Category_2']=data['Product_Category_2'].fillna(data['Product_Category_2'].mean())"
   ]
  },
  {
   "cell_type": "code",
   "execution_count": 22,
   "metadata": {},
   "outputs": [],
   "source": [
    "l1=[\"City_Category\",\"Gender\",\"Age\",\"Stay_In_Current_City_Years\"]\n",
    "le= LabelEncoder()\n",
    "for i in l1:\n",
    "    data[i]= le.fit_transform(data[i])"
   ]
  },
  {
   "cell_type": "code",
   "execution_count": 23,
   "metadata": {},
   "outputs": [
    {
     "data": {
      "text/html": [
       "<div>\n",
       "<style scoped>\n",
       "    .dataframe tbody tr th:only-of-type {\n",
       "        vertical-align: middle;\n",
       "    }\n",
       "\n",
       "    .dataframe tbody tr th {\n",
       "        vertical-align: top;\n",
       "    }\n",
       "\n",
       "    .dataframe thead th {\n",
       "        text-align: right;\n",
       "    }\n",
       "</style>\n",
       "<table border=\"1\" class=\"dataframe\">\n",
       "  <thead>\n",
       "    <tr style=\"text-align: right;\">\n",
       "      <th></th>\n",
       "      <th>Age</th>\n",
       "      <th>City_Category</th>\n",
       "      <th>Gender</th>\n",
       "      <th>Marital_Status</th>\n",
       "      <th>Occupation</th>\n",
       "      <th>Product_Category_1</th>\n",
       "      <th>Product_Category_2</th>\n",
       "      <th>Product_ID</th>\n",
       "      <th>Purchase</th>\n",
       "      <th>Stay_In_Current_City_Years</th>\n",
       "      <th>User_ID</th>\n",
       "    </tr>\n",
       "  </thead>\n",
       "  <tbody>\n",
       "    <tr>\n",
       "      <th>0</th>\n",
       "      <td>0</td>\n",
       "      <td>0</td>\n",
       "      <td>0</td>\n",
       "      <td>0</td>\n",
       "      <td>10</td>\n",
       "      <td>3</td>\n",
       "      <td>9.844506</td>\n",
       "      <td>P00069042</td>\n",
       "      <td>8370.0</td>\n",
       "      <td>2</td>\n",
       "      <td>1000001</td>\n",
       "    </tr>\n",
       "    <tr>\n",
       "      <th>1</th>\n",
       "      <td>0</td>\n",
       "      <td>0</td>\n",
       "      <td>0</td>\n",
       "      <td>0</td>\n",
       "      <td>10</td>\n",
       "      <td>1</td>\n",
       "      <td>6.000000</td>\n",
       "      <td>P00248942</td>\n",
       "      <td>15200.0</td>\n",
       "      <td>2</td>\n",
       "      <td>1000001</td>\n",
       "    </tr>\n",
       "    <tr>\n",
       "      <th>2</th>\n",
       "      <td>0</td>\n",
       "      <td>0</td>\n",
       "      <td>0</td>\n",
       "      <td>0</td>\n",
       "      <td>10</td>\n",
       "      <td>12</td>\n",
       "      <td>9.844506</td>\n",
       "      <td>P00087842</td>\n",
       "      <td>1422.0</td>\n",
       "      <td>2</td>\n",
       "      <td>1000001</td>\n",
       "    </tr>\n",
       "    <tr>\n",
       "      <th>3</th>\n",
       "      <td>0</td>\n",
       "      <td>0</td>\n",
       "      <td>0</td>\n",
       "      <td>0</td>\n",
       "      <td>10</td>\n",
       "      <td>12</td>\n",
       "      <td>14.000000</td>\n",
       "      <td>P00085442</td>\n",
       "      <td>1057.0</td>\n",
       "      <td>2</td>\n",
       "      <td>1000001</td>\n",
       "    </tr>\n",
       "    <tr>\n",
       "      <th>4</th>\n",
       "      <td>6</td>\n",
       "      <td>2</td>\n",
       "      <td>1</td>\n",
       "      <td>0</td>\n",
       "      <td>16</td>\n",
       "      <td>8</td>\n",
       "      <td>9.844506</td>\n",
       "      <td>P00285442</td>\n",
       "      <td>7969.0</td>\n",
       "      <td>4</td>\n",
       "      <td>1000002</td>\n",
       "    </tr>\n",
       "  </tbody>\n",
       "</table>\n",
       "</div>"
      ],
      "text/plain": [
       "   Age  City_Category  Gender  Marital_Status  Occupation  Product_Category_1  \\\n",
       "0    0              0       0               0          10                   3   \n",
       "1    0              0       0               0          10                   1   \n",
       "2    0              0       0               0          10                  12   \n",
       "3    0              0       0               0          10                  12   \n",
       "4    6              2       1               0          16                   8   \n",
       "\n",
       "   Product_Category_2 Product_ID  Purchase  Stay_In_Current_City_Years  \\\n",
       "0            9.844506  P00069042    8370.0                           2   \n",
       "1            6.000000  P00248942   15200.0                           2   \n",
       "2            9.844506  P00087842    1422.0                           2   \n",
       "3           14.000000  P00085442    1057.0                           2   \n",
       "4            9.844506  P00285442    7969.0                           4   \n",
       "\n",
       "   User_ID  \n",
       "0  1000001  \n",
       "1  1000001  \n",
       "2  1000001  \n",
       "3  1000001  \n",
       "4  1000002  "
      ]
     },
     "execution_count": 23,
     "metadata": {},
     "output_type": "execute_result"
    }
   ],
   "source": [
    "data.head()"
   ]
  },
  {
   "cell_type": "code",
   "execution_count": 24,
   "metadata": {},
   "outputs": [],
   "source": [
    "xtrain= data[:ts]\n",
    "xtest= data[ts:]"
   ]
  },
  {
   "cell_type": "code",
   "execution_count": 25,
   "metadata": {},
   "outputs": [
    {
     "data": {
      "text/plain": [
       "(550068, 11)"
      ]
     },
     "execution_count": 25,
     "metadata": {},
     "output_type": "execute_result"
    }
   ],
   "source": [
    "xtrain.shape"
   ]
  },
  {
   "cell_type": "code",
   "execution_count": 26,
   "metadata": {},
   "outputs": [
    {
     "data": {
      "text/plain": [
       "Age                           0\n",
       "City_Category                 0\n",
       "Gender                        0\n",
       "Marital_Status                0\n",
       "Occupation                    0\n",
       "Product_Category_1            0\n",
       "Product_Category_2            0\n",
       "Product_ID                    0\n",
       "Purchase                      0\n",
       "Stay_In_Current_City_Years    0\n",
       "User_ID                       0\n",
       "dtype: int64"
      ]
     },
     "execution_count": 26,
     "metadata": {},
     "output_type": "execute_result"
    }
   ],
   "source": [
    "xtrain.isnull().sum()"
   ]
  },
  {
   "cell_type": "code",
   "execution_count": 27,
   "metadata": {},
   "outputs": [
    {
     "data": {
      "text/plain": [
       "Age                                0\n",
       "City_Category                      0\n",
       "Gender                             0\n",
       "Marital_Status                     0\n",
       "Occupation                         0\n",
       "Product_Category_1                 0\n",
       "Product_Category_2                 0\n",
       "Product_ID                         0\n",
       "Purchase                      233599\n",
       "Stay_In_Current_City_Years         0\n",
       "User_ID                            0\n",
       "dtype: int64"
      ]
     },
     "execution_count": 27,
     "metadata": {},
     "output_type": "execute_result"
    }
   ],
   "source": [
    "xtest.isnull().sum()"
   ]
  },
  {
   "cell_type": "code",
   "execution_count": 28,
   "metadata": {},
   "outputs": [],
   "source": [
    "x= xtrain.drop(['Purchase','Product_ID','User_ID'],axis=1)\n",
    "y=xtrain['Purchase']"
   ]
  },
  {
   "cell_type": "code",
   "execution_count": 29,
   "metadata": {},
   "outputs": [],
   "source": [
    "x_train,x_valid,y_train,y_valid= train_test_split(x,y,test_size=0.25,random_state=4)"
   ]
  },
  {
   "cell_type": "code",
   "execution_count": 30,
   "metadata": {},
   "outputs": [],
   "source": [
    "def rmse(yactual, predict):\n",
    "    r= np.sqrt(mean_squared_error(yactual,predict))\n",
    "    return r"
   ]
  },
  {
   "cell_type": "code",
   "execution_count": 31,
   "metadata": {},
   "outputs": [
    {
     "name": "stdout",
     "output_type": "stream",
     "text": [
      "Multiple Linear Regression\n",
      "RMSE: 4698.198141430255\n"
     ]
    }
   ],
   "source": [
    "#Multiple Linear Regression\n",
    "print(\"Multiple Linear Regression\")\n",
    "lr= LinearRegression()\n",
    "lr.fit(x_train,y_train)\n",
    "pred1= lr.predict(x_valid)\n",
    "\n",
    "print(\"RMSE:\", rmse(y_valid,pred1))"
   ]
  },
  {
   "cell_type": "code",
   "execution_count": 32,
   "metadata": {},
   "outputs": [],
   "source": [
    "p= PolynomialFeatures(2)\n",
    "x= p.fit_transform(x_train)\n",
    "xv= p.transform(x_valid)"
   ]
  },
  {
   "cell_type": "code",
   "execution_count": 33,
   "metadata": {},
   "outputs": [
    {
     "name": "stdout",
     "output_type": "stream",
     "text": [
      "Polynomial Regression\n",
      "RMSE: 4439.169915330691\n"
     ]
    }
   ],
   "source": [
    "#Polynomial Regression\n",
    "print(\"Polynomial Regression\")\n",
    "plr= LinearRegression()\n",
    "plr.fit(x,y_train)\n",
    "pred2= plr.predict(xv)\n",
    "\n",
    "print(\"RMSE:\", rmse(y_valid,pred2))"
   ]
  },
  {
   "cell_type": "code",
   "execution_count": 34,
   "metadata": {},
   "outputs": [
    {
     "name": "stdout",
     "output_type": "stream",
     "text": [
      "Lasso Regression\n",
      "RMSE: 4698.1761588662275\n"
     ]
    }
   ],
   "source": [
    "#Lasso Regression\n",
    "print(\"Lasso Regression\")\n",
    "las= Lasso()\n",
    "las.fit(x_train,y_train)\n",
    "pred8= las.predict(x_valid)\n",
    "\n",
    "print(\"RMSE:\", rmse(y_valid,pred8))"
   ]
  },
  {
   "cell_type": "code",
   "execution_count": 35,
   "metadata": {},
   "outputs": [
    {
     "name": "stdout",
     "output_type": "stream",
     "text": [
      "Ridge Regression\n",
      "RMSE: 4698.877269238874\n"
     ]
    }
   ],
   "source": [
    "#Ridge Regression\n",
    "print(\"Ridge Regression\")\n",
    "ri= Ridge(alpha=0.05,normalize=True)\n",
    "ri.fit(x_train,y_train)\n",
    "pred9= ri.predict(x_valid)\n",
    "\n",
    "print(\"RMSE:\", rmse(y_valid,pred9))"
   ]
  },
  {
   "cell_type": "code",
   "execution_count": 36,
   "metadata": {},
   "outputs": [
    {
     "name": "stdout",
     "output_type": "stream",
     "text": [
      "Decision Tree Regressor\n",
      "RMSE: 3151.8121972597696\n"
     ]
    }
   ],
   "source": [
    "#Decision Tree Regressor\n",
    "print(\"Decision Tree Regressor\")\n",
    "dt= DecisionTreeRegressor()\n",
    "dt.fit(x_train,y_train)\n",
    "pred3= dt.predict(x_valid)\n",
    "\n",
    "print(\"RMSE:\", rmse(y_valid,pred3))"
   ]
  },
  {
   "cell_type": "code",
   "execution_count": 37,
   "metadata": {},
   "outputs": [
    {
     "name": "stdout",
     "output_type": "stream",
     "text": [
      "Random Forest Regressor\n"
     ]
    },
    {
     "name": "stderr",
     "output_type": "stream",
     "text": [
      "C:\\Users\\91758\\AppData\\Local\\Continuum\\anaconda3\\lib\\site-packages\\sklearn\\ensemble\\forest.py:246: FutureWarning: The default value of n_estimators will change from 10 in version 0.20 to 100 in 0.22.\n",
      "  \"10 in version 0.20 to 100 in 0.22.\", FutureWarning)\n"
     ]
    },
    {
     "name": "stdout",
     "output_type": "stream",
     "text": [
      "RMSE: 3040.6472076305527\n"
     ]
    }
   ],
   "source": [
    "#Random Forest Regressor\n",
    "print(\"Random Forest Regressor\")\n",
    "rf= RandomForestRegressor()\n",
    "rf.fit(x_train,y_train)\n",
    "pred4= rf.predict(x_valid)\n",
    "\n",
    "print(\"RMSE:\", rmse(y_valid,pred4))"
   ]
  },
  {
   "cell_type": "code",
   "execution_count": 38,
   "metadata": {},
   "outputs": [
    {
     "name": "stderr",
     "output_type": "stream",
     "text": [
      "C:\\Users\\91758\\AppData\\Local\\Continuum\\anaconda3\\lib\\site-packages\\sklearn\\ensemble\\forest.py:246: FutureWarning: The default value of n_estimators will change from 10 in version 0.20 to 100 in 0.22.\n",
      "  \"10 in version 0.20 to 100 in 0.22.\", FutureWarning)\n"
     ]
    },
    {
     "name": "stdout",
     "output_type": "stream",
     "text": [
      "RMSE: 3037.195843594708\n"
     ]
    }
   ],
   "source": [
    "#Hyperparameter Tuning\n",
    "rf1= RandomForestRegressor()\n",
    "params = {'n_estimators': [50, 100, 200, 300],\n",
    "          'max_features': ['auto','sqrt'],\n",
    "          'max depth': [1, 2, 3, 5, 10],\n",
    "          'oob_score': [True, False],\n",
    "          'max_depth': [3, 4, 5],\n",
    "         }\n",
    "folds = 5\n",
    "param_comb = 800\n",
    "SEED=5\n",
    "random_search = RandomizedSearchCV(rf1, param_distributions=params, \n",
    "                                   n_iter=param_comb, scoring='mse', \n",
    "                                   n_jobs=-1, cv=folds, verbose=3, random_state=SEED)\n",
    "rf1.fit(x_train,y_train)\n",
    "pred5= rf1.predict(x_valid)\n",
    "\n",
    "print(\"RMSE:\", rmse(y_valid,pred5))"
   ]
  },
  {
   "cell_type": "code",
   "execution_count": 39,
   "metadata": {},
   "outputs": [
    {
     "name": "stdout",
     "output_type": "stream",
     "text": [
      "RMSE: 3000.284340066297\n"
     ]
    }
   ],
   "source": [
    "#Gradient Boosting Regressor\n",
    "gb=  GradientBoostingRegressor()\n",
    "params = {'n_estimators': [50, 100, 200, 300],\n",
    "          'learning_rate': [0.01, 0.05, 0.1, 0.15],\n",
    "          'min_samples_split': [1, 2, 3, 5, 10],\n",
    "          'subsample': [0.6, 0.7, 0.8],\n",
    "          'max_depth': [3, 4, 5],\n",
    "         }\n",
    "folds = 5\n",
    "param_comb = 800\n",
    "random_search = RandomizedSearchCV(gb, param_distributions=params, \n",
    "                                   n_iter=param_comb, scoring='mse', \n",
    "                                   n_jobs=-1, cv=folds, verbose=3, random_state=SEED)\n",
    "\n",
    "gb.fit(x_train,y_train)\n",
    "pred6= gb.predict(x_valid)\n",
    "\n",
    "print(\"RMSE:\", rmse(y_valid,pred6))"
   ]
  },
  {
   "cell_type": "code",
   "execution_count": 40,
   "metadata": {},
   "outputs": [],
   "source": [
    "x_test=xtest.drop(['Purchase','Product_ID','User_ID'], axis=1)"
   ]
  },
  {
   "cell_type": "code",
   "execution_count": 41,
   "metadata": {},
   "outputs": [
    {
     "data": {
      "text/plain": [
       "Age                           0\n",
       "City_Category                 0\n",
       "Gender                        0\n",
       "Marital_Status                0\n",
       "Occupation                    0\n",
       "Product_Category_1            0\n",
       "Product_Category_2            0\n",
       "Stay_In_Current_City_Years    0\n",
       "dtype: int64"
      ]
     },
     "execution_count": 41,
     "metadata": {},
     "output_type": "execute_result"
    }
   ],
   "source": [
    "x_test.isnull().sum()"
   ]
  },
  {
   "cell_type": "code",
   "execution_count": 49,
   "metadata": {},
   "outputs": [],
   "source": [
    "predict= rf1.predict(x_test)"
   ]
  },
  {
   "cell_type": "code",
   "execution_count": 50,
   "metadata": {},
   "outputs": [],
   "source": [
    "pre= pd.Series(predict)"
   ]
  },
  {
   "cell_type": "code",
   "execution_count": 51,
   "metadata": {},
   "outputs": [],
   "source": [
    "a= pd.concat([pre,xtest['User_ID'], xtest['Product_ID']],axis=1)"
   ]
  },
  {
   "cell_type": "code",
   "execution_count": 52,
   "metadata": {},
   "outputs": [],
   "source": [
    "a.columns=['Purchase','User_ID','Product_ID']"
   ]
  },
  {
   "cell_type": "code",
   "execution_count": 53,
   "metadata": {},
   "outputs": [
    {
     "data": {
      "text/html": [
       "<div>\n",
       "<style scoped>\n",
       "    .dataframe tbody tr th:only-of-type {\n",
       "        vertical-align: middle;\n",
       "    }\n",
       "\n",
       "    .dataframe tbody tr th {\n",
       "        vertical-align: top;\n",
       "    }\n",
       "\n",
       "    .dataframe thead th {\n",
       "        text-align: right;\n",
       "    }\n",
       "</style>\n",
       "<table border=\"1\" class=\"dataframe\">\n",
       "  <thead>\n",
       "    <tr style=\"text-align: right;\">\n",
       "      <th></th>\n",
       "      <th>Purchase</th>\n",
       "      <th>User_ID</th>\n",
       "      <th>Product_ID</th>\n",
       "    </tr>\n",
       "  </thead>\n",
       "  <tbody>\n",
       "    <tr>\n",
       "      <th>0</th>\n",
       "      <td>18680.560000</td>\n",
       "      <td>1000004</td>\n",
       "      <td>P00128942</td>\n",
       "    </tr>\n",
       "    <tr>\n",
       "      <th>1</th>\n",
       "      <td>10653.853333</td>\n",
       "      <td>1000009</td>\n",
       "      <td>P00113442</td>\n",
       "    </tr>\n",
       "    <tr>\n",
       "      <th>2</th>\n",
       "      <td>8333.656296</td>\n",
       "      <td>1000010</td>\n",
       "      <td>P00288442</td>\n",
       "    </tr>\n",
       "    <tr>\n",
       "      <th>3</th>\n",
       "      <td>2244.625000</td>\n",
       "      <td>1000010</td>\n",
       "      <td>P00145342</td>\n",
       "    </tr>\n",
       "    <tr>\n",
       "      <th>4</th>\n",
       "      <td>1203.758333</td>\n",
       "      <td>1000011</td>\n",
       "      <td>P00053842</td>\n",
       "    </tr>\n",
       "  </tbody>\n",
       "</table>\n",
       "</div>"
      ],
      "text/plain": [
       "       Purchase  User_ID Product_ID\n",
       "0  18680.560000  1000004  P00128942\n",
       "1  10653.853333  1000009  P00113442\n",
       "2   8333.656296  1000010  P00288442\n",
       "3   2244.625000  1000010  P00145342\n",
       "4   1203.758333  1000011  P00053842"
      ]
     },
     "execution_count": 53,
     "metadata": {},
     "output_type": "execute_result"
    }
   ],
   "source": [
    "a.head()"
   ]
  },
  {
   "cell_type": "code",
   "execution_count": 54,
   "metadata": {},
   "outputs": [],
   "source": [
    "a.to_csv(\"C:/Users/91758/Downloads/Black Friday Sale/solution.csv\",index= False)"
   ]
  },
  {
   "cell_type": "code",
   "execution_count": null,
   "metadata": {},
   "outputs": [],
   "source": []
  }
 ],
 "metadata": {
  "kernelspec": {
   "display_name": "Python 3",
   "language": "python",
   "name": "python3"
  },
  "language_info": {
   "codemirror_mode": {
    "name": "ipython",
    "version": 3
   },
   "file_extension": ".py",
   "mimetype": "text/x-python",
   "name": "python",
   "nbconvert_exporter": "python",
   "pygments_lexer": "ipython3",
   "version": "3.7.3"
  }
 },
 "nbformat": 4,
 "nbformat_minor": 2
}
